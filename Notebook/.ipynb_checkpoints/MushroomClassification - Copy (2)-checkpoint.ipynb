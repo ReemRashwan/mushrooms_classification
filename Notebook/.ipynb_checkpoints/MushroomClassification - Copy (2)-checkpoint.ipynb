{
 "cells": [
  {
   "cell_type": "markdown",
   "metadata": {},
   "source": [
    "# Mushroom Classification\n",
    "Classification of mushrooms as edible or poisonouns is an important problem for many poeple. The classification process can be done using different mushrooms features. This notebook is intended to solve this problem using machine learning algorithms that can predict the class of each mushroom (edible or poisonous) from its features. The dataset used for this project is: [UCI Machine Learning Repository: Mushroom Data Set](https://archive.ics.uci.edu/ml/datasets/mushroom)."
   ]
  },
  {
   "cell_type": "markdown",
   "metadata": {},
   "source": [
    "![title](mushrooms.jpg)"
   ]
  },
  {
   "cell_type": "markdown",
   "metadata": {},
   "source": [
    "## Steps for completing this project:\n",
    "1. [Data Analysis](#analysis).\n",
    "2. [Data Preprocessing](#preprocessing).\n",
    "3. [Splitting The Dataset](#splitting). \n",
    "4. [Building The Benchmark Model](#benchmark).\n",
    "5. [Building Different Machine Learning Models](#models).\n",
    "6. [Evaluation](#evaluation).\n",
    "7. [Validation](#validation)."
   ]
  },
  {
   "cell_type": "markdown",
   "metadata": {},
   "source": [
    "## 1. Data Analysis <a name=\"analysis\"></a>"
   ]
  },
  {
   "cell_type": "markdown",
   "metadata": {},
   "source": [
    "### Loading Libraries"
   ]
  },
  {
   "cell_type": "code",
   "execution_count": null,
   "metadata": {},
   "outputs": [],
   "source": [
    "import numpy as np\n",
    "import pandas as pd\n",
    "import seaborn as sns\n",
    "import sklearn\n",
    "from time import time\n",
    "from matplotlib import pyplot as plt\n",
    "from IPython.display import display\n",
    "\n",
    "%matplotlib inline\n",
    "sns.set()"
   ]
  },
  {
   "cell_type": "code",
   "execution_count": null,
   "metadata": {},
   "outputs": [],
   "source": [
    "print(\"seaborn vesion: \", sns.__version__)"
   ]
  },
  {
   "cell_type": "markdown",
   "metadata": {},
   "source": [
    "### Importing Dataset"
   ]
  },
  {
   "cell_type": "code",
   "execution_count": null,
   "metadata": {},
   "outputs": [],
   "source": [
    "try:\n",
    "    raw_dataset = pd.read_csv('mushrooms.csv')\n",
    "    # Display all the columns of the dataset\n",
    "    display(raw_dataset.iloc[:5, :12])\n",
    "    display(raw_dataset.iloc[:5, 12:])\n",
    "except:\n",
    "    print(\"Couldn't load the dataset.\")"
   ]
  },
  {
   "cell_type": "markdown",
   "metadata": {},
   "source": [
    "To know more about the dataset."
   ]
  },
  {
   "cell_type": "code",
   "execution_count": null,
   "metadata": {},
   "outputs": [],
   "source": [
    "print(\"The 'Mushrooms Dataset' has {} rows and {} columns.\\n\".format(raw_dataset.shape[0], raw_dataset.shape[1]))\n",
    "raw_dataset.info()"
   ]
  },
  {
   "cell_type": "markdown",
   "metadata": {},
   "source": [
    "**Some Statistics**:\n",
    "\n",
    "The dataset contains 8124 rows and 23 columns. We can see that it doesn't contain missing values that need to be filled (all columns contain 8124 rows), but later we will find some missing values filled with a special character (as mentioned in the original source of the dataset).\n",
    "\n",
    "All the columns hold categorical values, thus, we need to know each columns unique values and to find the frequency table for the data."
   ]
  },
  {
   "cell_type": "markdown",
   "metadata": {},
   "source": [
    "**Understanding The Values of Each Column:**\n",
    "\n",
    "We can refer to the original data source information:\n",
    "\n",
    "**Attribute Information:**\n",
    "1. **cap-shape**: bell=b,conical=c,convex=x,flat=f, knobbed=k,sunken=s \n",
    "2. **cap-surface**: fibrous=f,grooves=g,scaly=y,smooth=s \n",
    "3. **cap-color**: brown=n,buff=b,cinnamon=c,gray=g,green=r, pink=p,purple=u,red=e,white=w,yellow=y \n",
    "4. **bruises**: bruises=t,no=f \n",
    "5. **odor**: almond=a,anise=l,creosote=c,fishy=y,foul=f, musty=m,none=n,pungent=p,spicy=s \n",
    "6. **gill-attachment**: attached=a,descending=d,free=f,notched=n \n",
    "7. **gill-spacing**: close=c,crowded=w,distant=d \n",
    "8. **gill-size**: broad=b,narrow=n \n",
    "9. **gill-color**: black=k,brown=n,buff=b,chocolate=h,gray=g, green=r,orange=o,pink=p,purple=u,red=e, white=w,yellow=y \n",
    "10. **stalk-shape**: enlarging=e,tapering=t \n",
    "11. **stalk-root**: bulbous=b,club=c,cup=u,equal=e, rhizomorphs=z,rooted=r,missing=? \n",
    "12. **stalk-surface-above-ring**: fibrous=f,scaly=y,silky=k,smooth=s \n",
    "13. **stalk-surface-below-ring**: fibrous=f,scaly=y,silky=k,smooth=s \n",
    "14. **stalk-color-above-ring**: brown=n,buff=b,cinnamon=c,gray=g,orange=o, pink=p,red=e,white=w,yellow=y \n",
    "15. **stalk-color-below-ring**: brown=n,buff=b,cinnamon=c,gray=g,orange=o, pink=p,red=e,white=w,yellow=y \n",
    "16. **veil-type**: partial=p,universal=u \n",
    "17. **veil-color**: brown=n,orange=o,white=w,yellow=y \n",
    "18. **ring-number**: none=n,one=o,two=t \n",
    "19. **ring-type**: cobwebby=c,evanescent=e,flaring=f,large=l, none=n,pendant=p,sheathing=s,zone=z \n",
    "20. **spore-print-color**: black=k,brown=n,buff=b,chocolate=h,green=r, orange=o,purple=u,white=w,yellow=y \n",
    "21. **population**: abundant=a,clustered=c,numerous=n, scattered=s,several=v,solitary=y \n",
    "22. **habitat**: grasses=g,leaves=l,meadows=m,paths=p, urban=u,waste=w,woods=d"
   ]
  },
  {
   "cell_type": "code",
   "execution_count": null,
   "metadata": {},
   "outputs": [],
   "source": [
    "raw_dataset.describe()"
   ]
  },
  {
   "cell_type": "markdown",
   "metadata": {},
   "source": [
    "As a part of data exploration, we will find each variable (column) distribution, and we will find its unique values\n",
    "\n",
    "**Unique Values of Each Column:**"
   ]
  },
  {
   "cell_type": "code",
   "execution_count": null,
   "metadata": {},
   "outputs": [],
   "source": [
    "unique = lambda df :  [(colName, df[colName].unique().tolist()) for colName in df.columns] # tolist() to convert numpy array into list\n",
    "display(unique(raw_dataset))"
   ]
  },
  {
   "cell_type": "markdown",
   "metadata": {},
   "source": [
    "Some observations:\n",
    "- There is a strange value in **'stalk-root'** column, which is **'?'**. Back to the original source of the dataset, we can see that '?' represents missing values. This will be discussed after taking a look at data distribution.\n",
    "- **'veil-type'** column has only **one value** which means that this column doesn't affect the class of the mushrooms as it is the same in all observations hence it will be removed from the dataset.\n",
    "\n",
    "***We will deal with these situations in the data preprocessing section.***"
   ]
  },
  {
   "cell_type": "markdown",
   "metadata": {},
   "source": [
    "**Data Distribution** (for each column):"
   ]
  },
  {
   "cell_type": "code",
   "execution_count": null,
   "metadata": {},
   "outputs": [],
   "source": [
    "fig, axes = plt.subplots(6, 4, figsize=(20, 30))\n",
    "axes = axes.flatten()\n",
    "for i, col in enumerate(raw_dataset.columns):\n",
    "    axis = sns.countplot(data=raw_dataset, x=col, palette='ch:.25', ax=axes[i])\n",
    "    for p in axis.patches:\n",
    "        height = p.get_height()\n",
    "        axis.text(p.get_x(), height+ 3, '%.0f'%(height))\n",
    "        \n",
    "fig.delaxes(axes[raw_dataset.shape[1]]) # delete last unnecessary plot.\n"
   ]
  },
  {
   "cell_type": "markdown",
   "metadata": {},
   "source": [
    "**From the above plots we can see the following:**\n",
    "- The **'class'** variable plot shows that both classes are balanced (edible and poisonous). With 3916 rows classified as poisonous and 4208 as edible, we can ensure that there is enough data for the machine learning model for not being biased.\n",
    "- Some variable like **'gill-attachment'** and **'veil-color'** has a huge difference between the variables counts, some values have small count values. This may raise a question if mushrooms with these features are rare, or hard to get, or they are not found frequently. These questions may (or may not) contribute to the class of a given mushroom directly, and we can find that by applying machine learning algorithm to determine if this rare features are important in the class decision.\n",
    "- The plot made it easier to notice the only one value of  **'veil-type'**, as we mentioned earlier.\n",
    "- The **'stalk-root'** missing values denoted as **'?'** are occupying a big portion of the variable (2480/8124 * 100 = 30.53% approx.).\n",
    "- Other variables have different distributions, we need find the relationship between each variable and the **'class'** column, and this is will be our next step."
   ]
  },
  {
   "cell_type": "markdown",
   "metadata": {},
   "source": [
    "**Finding The Direct Relationship Between Each Variable And The Target Variable:**"
   ]
  },
  {
   "cell_type": "code",
   "execution_count": null,
   "metadata": {},
   "outputs": [],
   "source": [
    "plt.rcParams.update({'figure.max_open_warning': 0})\n",
    "\n",
    "# to display the relationship between a col and the class\n",
    "for col in raw_dataset.columns[1:]:\n",
    "    sns.catplot(y=col, kind=\"count\", col=\"class\", palette=\"bright\", data=raw_dataset, height=4, aspect=3 / 3)\n",
    "    "
   ]
  },
  {
   "cell_type": "markdown",
   "metadata": {},
   "source": [
    "**Some Important Observations:**\n",
    "- **'bruises'** has two values: t: true (has bruises) and f: false. The probability of a mushroom to be edible increases if the 'bruises' value is 't', it relates somehow to the mushroom class. \n",
    "- **'odor'** variable has a strong relationship with the target variable, because most of its values relates to one class. For example: (p, f, c, y, s, m) 'odor' values are only seen in the poisonous mushrooms! and (a, l) are seen only in edible ones. The only common value is n(none), which is obvious that in most of the time it belongs to the edible class.\n",
    "- The 'b' (buff) value of the **'gill-color'** is always classified as poisonouns.\n",
    "- **'spore-print-color'** will be an important varable in our model, as the 'odor' variable."
   ]
  },
  {
   "cell_type": "markdown",
   "metadata": {},
   "source": [
    "**Visualizing 'spore-print-color' With Actual Colors:**"
   ]
  },
  {
   "cell_type": "code",
   "execution_count": null,
   "metadata": {},
   "outputs": [],
   "source": [
    "sns.set(style=\"darkgrid\") \n",
    "fig, axes = plt.subplots(figsize=(12, 5))\n",
    "colors = ['black', 'brown', 'purple', 'white', 'peru', 'green', 'orange', 'yellow', 'khaki']\n",
    "ax = sns.countplot(x=\"spore-print-color\", data=raw_dataset, palette=colors )\n",
    "ax.set_xticklabels(labels=[ 'black', 'brown', 'purple', 'white', 'chocolate', 'green', 'orange', 'yellow', 'buff'], fontdict=None, minor=False)"
   ]
  },
  {
   "cell_type": "markdown",
   "metadata": {},
   "source": [
    "## 2. Data Preprocessing <a name=\"preprocessing\"></a>"
   ]
  },
  {
   "cell_type": "markdown",
   "metadata": {},
   "source": [
    "***The 'class' column is our target variable, we will seperate it in another variable.***\n",
    "\n",
    "Also, we will remove 'veil-type' column because it doesn't affect the class value:"
   ]
  },
  {
   "cell_type": "code",
   "execution_count": null,
   "metadata": {},
   "outputs": [],
   "source": [
    "raw_target = raw_dataset['class']\n",
    "dataset = raw_dataset.drop(['veil-type', 'class'], axis=1)\n",
    "\n",
    "# some statistics\n",
    "print(\"Dataframe columns after removing 'class' and 'veil-type':\\n\", dataset.columns.tolist())\n",
    "\n",
    "# Since all the dataframe columns are categorical, \n",
    "# dataset.describe() will find unique values and the frequency of top repeated value in each columns\n",
    "dataset.describe()"
   ]
  },
  {
   "cell_type": "markdown",
   "metadata": {},
   "source": [
    "**Counting 'stalk-root' missing values:**"
   ]
  },
  {
   "cell_type": "code",
   "execution_count": null,
   "metadata": {},
   "outputs": [],
   "source": [
    "dataset['stalk-root'].value_counts()\n",
    "\n",
    "print(\"{} data points have missing values of 'stalk-root' with percentage of {:05.2f}% of the total data points.\"\\\n",
    "     .format(2480, 2480/8124 *100)) "
   ]
  },
  {
   "cell_type": "markdown",
   "metadata": {},
   "source": [
    "The number of missing values in this column is very large, I will leave the column as it is, and if the end results are not satisfying I will change the method of dealing with this column."
   ]
  },
  {
   "cell_type": "markdown",
   "metadata": {},
   "source": [
    "**Converting The Target Variables Values Into Binary Values:**"
   ]
  },
  {
   "cell_type": "code",
   "execution_count": null,
   "metadata": {},
   "outputs": [],
   "source": [
    "from sklearn.preprocessing import LabelEncoder\n",
    "label_encoder_class = LabelEncoder()\n",
    "target = label_encoder_class.fit_transform(raw_target)\n",
    "print(raw_target[:5].values)\n",
    "print(target[:5])"
   ]
  },
  {
   "cell_type": "markdown",
   "metadata": {},
   "source": [
    "The poisonous value is now denoted by '1', and edible by '0'"
   ]
  },
  {
   "cell_type": "markdown",
   "metadata": {},
   "source": [
    "**Using One-Hot-Encoding For The Features:**"
   ]
  },
  {
   "cell_type": "code",
   "execution_count": null,
   "metadata": {},
   "outputs": [],
   "source": [
    "dataset = pd.get_dummies(dataset, drop_first=True) # to avoid dummy variable trap\n",
    "print(\"No. of encoded columns: \", dataset.shape[1])\n",
    "dataset.head()"
   ]
  },
  {
   "cell_type": "markdown",
   "metadata": {},
   "source": [
    "## 3. Splitting The Dataset <a name=\"splitting\"></a>"
   ]
  },
  {
   "cell_type": "code",
   "execution_count": null,
   "metadata": {},
   "outputs": [],
   "source": [
    "from sklearn.model_selection import train_test_split\n",
    "X_train, X_test, y_train, y_test = train_test_split(dataset, target, test_size=0.3, random_state=0)"
   ]
  },
  {
   "cell_type": "markdown",
   "metadata": {},
   "source": [
    "## 4. Building The Benchmark Model <a name=\"benchmark\"></a>"
   ]
  },
  {
   "cell_type": "code",
   "execution_count": 15,
   "metadata": {},
   "outputs": [],
   "source": [
    "def train(model, X_train, y_train):\n",
    "    '''\n",
    "    This functions trains the given model\n",
    "    on the training varaiables.\n",
    "    '''\n",
    "    results = {}\n",
    "    start = time() \n",
    "    model = model.fit(X_train, y_train)\n",
    "    end = time() \n",
    "    \n",
    "    results['train_time'] = end - start\n",
    "\n",
    "    print(\"{} trained succesfully.\".format(model.__class__.__name__))\n",
    "    return results"
   ]
  },
  {
   "cell_type": "code",
   "execution_count": 16,
   "metadata": {},
   "outputs": [
    {
     "name": "stdout",
     "output_type": "stream",
     "text": [
      "LogisticRegression trained succesfully.\n"
     ]
    }
   ],
   "source": [
    "from sklearn.linear_model import LogisticRegression\n",
    "from sklearn.metrics import accuracy_score\n",
    "\n",
    "results = {}\n",
    "\n",
    "LR_model = LogisticRegression()\n",
    "model_name = LR_model.__class__.__name__\n",
    "results[model_name] = {}\n",
    "results[model_name] = train(LR_model, X_train, y_train)"
   ]
  },
  {
   "cell_type": "markdown",
   "metadata": {},
   "source": [
    "## 5. Building The Models <a name=\"models\"></a>"
   ]
  },
  {
   "cell_type": "markdown",
   "metadata": {},
   "source": [
    "Machine learning models that will be used for this problem:\n",
    "- Naive Bayes.\n",
    "- Random Forest.\n",
    "- Support Vectors Classifier."
   ]
  },
  {
   "cell_type": "code",
   "execution_count": 32,
   "metadata": {},
   "outputs": [],
   "source": [
    "from sklearn.metrics import accuracy_score\n",
    "from sklearn.metrics import f1_score\n",
    "from sklearn.metrics import make_scorer\n",
    "from sklearn.metrics import recall_score\n",
    "from sklearn.metrics import precision_score\n",
    "from sklearn.metrics import classification_report\n",
    "from sklearn.metrics import confusion_matrix"
   ]
  },
  {
   "cell_type": "code",
   "execution_count": 47,
   "metadata": {},
   "outputs": [
    {
     "name": "stdout",
     "output_type": "stream",
     "text": [
      "GaussianNB trained succesfully.\n",
      "RandomForestClassifier trained succesfully.\n",
      "SVC trained succesfully.\n"
     ]
    }
   ],
   "source": [
    "from sklearn.naive_bayes import GaussianNB\n",
    "from sklearn.ensemble import RandomForestClassifier\n",
    "from sklearn.svm import SVC\n",
    "\n",
    "NB_model = GaussianNB()\n",
    "RF_model = RandomForestClassifier(random_state=42)\n",
    "SVM_model = SVC(random_state=42)\n",
    "\n",
    "for model in [NB_model, RF_model, SVM_model]:\n",
    "    model_name = model.__class__.__name__\n",
    "    results[model_name] = {}\n",
    "    results[model_name] = train(model, X_train, y_train)\n",
    "    "
   ]
  },
  {
   "cell_type": "markdown",
   "metadata": {},
   "source": [
    "## 6. Evaluation <a name=\"evaluation\"></a>"
   ]
  },
  {
   "cell_type": "code",
   "execution_count": null,
   "metadata": {},
   "outputs": [],
   "source": [
    "from sklearn.model_selection import cross_val_score\n",
    "clf = svm.SVC(kernel='linear', C=1)\n",
    "scores = cross_val_score(clf, iris.data, iris.target, cv=5)"
   ]
  },
  {
   "cell_type": "code",
   "execution_count": 48,
   "metadata": {},
   "outputs": [],
   "source": [
    "def predict(trained_model, X_train, X_test, y_train, y_test):\n",
    "\n",
    "    results = {}\n",
    "    \n",
    "    start = time() \n",
    "    y_pred_test = trained_model.predict(X_test)\n",
    "    y_pred_train = trained_model.predict(X_train)\n",
    "    end = time() \n",
    "    results['pred_time'] = end - start\n",
    "    \n",
    "    results['acc_train'] = accuracy_score(y_train, y_pred_train)\n",
    "    results['acc_test'] = accuracy_score(y_test, y_pred_test)\n",
    "    results['f_train'] = f1_score(y_pred_train, y_train)\n",
    "    results['f_test'] = f1_score(y_pred_test, y_test)\n",
    "    results['recall_train'] = recall_score(y_pred_train, y_train)\n",
    "    results['recall_test'] = recall_score(y_pred_test, y_test)\n",
    "    results['precision_train'] = precision_score(y_pred_train, y_train)\n",
    "    results['precision_test'] = precision_score(y_pred_test, y_test)\n",
    "            \n",
    "    print(\"{} evaluation metrics have been recorded succesfully.\".format(model.__class__.__name__))\n",
    "\n",
    "    conf = confusion_matrix(y_test, y_pred_test)\n",
    "    return results, conf\n",
    "    "
   ]
  },
  {
   "cell_type": "code",
   "execution_count": 49,
   "metadata": {},
   "outputs": [
    {
     "name": "stdout",
     "output_type": "stream",
     "text": [
      "GaussianNB evaluation metrics have been recorded succesfully.\n",
      "RandomForestClassifier evaluation metrics have been recorded succesfully.\n",
      "SVC evaluation metrics have been recorded succesfully.\n",
      "LogisticRegression evaluation metrics have been recorded succesfully.\n"
     ]
    }
   ],
   "source": [
    "# a dict to store each model confusion matrix\n",
    "models_confusion_matrices = {}\n",
    "for model in [NB_model, RF_model, SVM_model, LR_model]:\n",
    "    model_name = model.__class__.__name__\n",
    "    res, conf = predict(model, X_train, X_test, y_train, y_test)\n",
    "    results[model_name].update(res)\n",
    "    models_confusion_matrices[model_name] = conf"
   ]
  },
  {
   "cell_type": "markdown",
   "metadata": {},
   "source": [
    "**Now We Have All The Needed Information To Make A Decision About The Best Classifier.**\n",
    "\n",
    "As mentioned in the project report, our main evaluation metrics will be the accuracy and false negative count (considering poisonous as positive and edible as negative). False negative means that a mushroom is poisonous but our model classified it as edible, which is the worst case in our scenario. Also, the higher the testing accuracy rate, the more we can trust our model. Recall, precision, f1 score are also recorded."
   ]
  },
  {
   "cell_type": "code",
   "execution_count": 50,
   "metadata": {},
   "outputs": [
    {
     "data": {
      "text/html": [
       "<div>\n",
       "<style scoped>\n",
       "    .dataframe tbody tr th:only-of-type {\n",
       "        vertical-align: middle;\n",
       "    }\n",
       "\n",
       "    .dataframe tbody tr th {\n",
       "        vertical-align: top;\n",
       "    }\n",
       "\n",
       "    .dataframe thead th {\n",
       "        text-align: right;\n",
       "    }\n",
       "</style>\n",
       "<table border=\"1\" class=\"dataframe\">\n",
       "  <thead>\n",
       "    <tr style=\"text-align: right;\">\n",
       "      <th></th>\n",
       "      <th>acc_test</th>\n",
       "      <th>acc_train</th>\n",
       "      <th>f_test</th>\n",
       "      <th>f_train</th>\n",
       "      <th>precision_test</th>\n",
       "      <th>precision_train</th>\n",
       "      <th>pred_time</th>\n",
       "      <th>recall_test</th>\n",
       "      <th>recall_train</th>\n",
       "      <th>train_time</th>\n",
       "    </tr>\n",
       "  </thead>\n",
       "  <tbody>\n",
       "    <tr>\n",
       "      <th>LogisticRegression</th>\n",
       "      <td>0.999590</td>\n",
       "      <td>0.999824</td>\n",
       "      <td>0.999571</td>\n",
       "      <td>0.999818</td>\n",
       "      <td>0.999142</td>\n",
       "      <td>0.999636</td>\n",
       "      <td>0.015623</td>\n",
       "      <td>1.000000</td>\n",
       "      <td>1.000000</td>\n",
       "      <td>0.139791</td>\n",
       "    </tr>\n",
       "    <tr>\n",
       "      <th>GaussianNB</th>\n",
       "      <td>0.946267</td>\n",
       "      <td>0.945304</td>\n",
       "      <td>0.946770</td>\n",
       "      <td>0.946444</td>\n",
       "      <td>0.999142</td>\n",
       "      <td>0.999273</td>\n",
       "      <td>0.066957</td>\n",
       "      <td>0.899614</td>\n",
       "      <td>0.898921</td>\n",
       "      <td>0.026985</td>\n",
       "    </tr>\n",
       "    <tr>\n",
       "      <th>RandomForestClassifier</th>\n",
       "      <td>1.000000</td>\n",
       "      <td>1.000000</td>\n",
       "      <td>1.000000</td>\n",
       "      <td>1.000000</td>\n",
       "      <td>1.000000</td>\n",
       "      <td>1.000000</td>\n",
       "      <td>0.015990</td>\n",
       "      <td>1.000000</td>\n",
       "      <td>1.000000</td>\n",
       "      <td>0.055963</td>\n",
       "    </tr>\n",
       "    <tr>\n",
       "      <th>SVC</th>\n",
       "      <td>0.997539</td>\n",
       "      <td>0.997010</td>\n",
       "      <td>0.997420</td>\n",
       "      <td>0.996900</td>\n",
       "      <td>0.994854</td>\n",
       "      <td>0.993818</td>\n",
       "      <td>0.654970</td>\n",
       "      <td>1.000000</td>\n",
       "      <td>1.000000</td>\n",
       "      <td>0.728548</td>\n",
       "    </tr>\n",
       "  </tbody>\n",
       "</table>\n",
       "</div>"
      ],
      "text/plain": [
       "                        acc_test  acc_train    f_test   f_train  \\\n",
       "LogisticRegression      0.999590   0.999824  0.999571  0.999818   \n",
       "GaussianNB              0.946267   0.945304  0.946770  0.946444   \n",
       "RandomForestClassifier  1.000000   1.000000  1.000000  1.000000   \n",
       "SVC                     0.997539   0.997010  0.997420  0.996900   \n",
       "\n",
       "                        precision_test  precision_train  pred_time  \\\n",
       "LogisticRegression            0.999142         0.999636   0.015623   \n",
       "GaussianNB                    0.999142         0.999273   0.066957   \n",
       "RandomForestClassifier        1.000000         1.000000   0.015990   \n",
       "SVC                           0.994854         0.993818   0.654970   \n",
       "\n",
       "                        recall_test  recall_train  train_time  \n",
       "LogisticRegression         1.000000      1.000000    0.139791  \n",
       "GaussianNB                 0.899614      0.898921    0.026985  \n",
       "RandomForestClassifier     1.000000      1.000000    0.055963  \n",
       "SVC                        1.000000      1.000000    0.728548  "
      ]
     },
     "metadata": {},
     "output_type": "display_data"
    }
   ],
   "source": [
    "# display(results)\n",
    "results_df = pd.DataFrame(results)\n",
    "transposed_results = results_df\n",
    "results_df = results_df.T\n",
    "display(results_df)"
   ]
  },
  {
   "cell_type": "markdown",
   "metadata": {},
   "source": [
    "**The Interpretation of Results:**\n",
    "\n",
    "The above table shows that 'RandomForestClassifier' is the best model. It has an accuracy of 100% at training and testing and 100% in all other metrices. In terms of time, it was the second best scoring model in training and predicting time. Interestingly, the 'LogisticRegression' model scored very well, in fact, except for 'RandomForestClassifier', it beated all other models with 99.98% training accuracy and 99.95% testing accuracy, and it the least time consuming model in prediction.'GaussianNB' was the least scoring model with about 94.5% training accuracy and 94.6% testing accuracy, and it has the shortest training time. 'SVC' has the longest training and predicting time with about 99.7% training and testing accuracies. As the results are satisfying, the strategy of dealing with missing values will remain the same."
   ]
  },
  {
   "cell_type": "code",
   "execution_count": 51,
   "metadata": {},
   "outputs": [
    {
     "data": {
      "image/png": "[encoded data removed]",
      "text/plain": [
       "<Figure size 1080x576 with 1 Axes>"
      ]
     },
     "metadata": {},
     "output_type": "display_data"
    }
   ],
   "source": [
    "# plotting the results\n",
    "rev_res = transposed_results.reset_index()\n",
    "rev_res = rev_res.rename(columns={\"index\":\"metric\"})\n",
    "ax = rev_res.plot(xticks=rev_res.index, figsize=(15,8), colormap='gist_rainbow')\n",
    "ax.set_xticklabels(rev_res[\"metric\"]);"
   ]
  },
  {
   "cell_type": "markdown",
   "metadata": {},
   "source": [
    "Now we need to check our second important metric, which is to find the number of false negateves in our models."
   ]
  },
  {
   "cell_type": "markdown",
   "metadata": {},
   "source": [
    "**We Will Use 'sklearn.metrics.confusion_matrix' Which Returns A Confusion Matrix As Following:**\n",
    "\n",
    "| True Negative | False Positive |\n",
    "|------|------|\n",
    "| False Negative  | True Positive |\n",
    "Now we can compare false negatives in each model."
   ]
  },
  {
   "cell_type": "code",
   "execution_count": 52,
   "metadata": {},
   "outputs": [
    {
     "data": {
      "image/png": "[encoded data removed]",
      "text/plain": [
       "<Figure size 1080x720 with 8 Axes>"
      ]
     },
     "metadata": {},
     "output_type": "display_data"
    }
   ],
   "source": [
    "models_confusion_matrices.keys()\n",
    "fig, axes = plt.subplots(2,2, figsize=(15,10))\n",
    "axes = axes.flatten()\n",
    "for i, model in enumerate(models_confusion_matrices.keys()):\n",
    "#     print(model)\n",
    "    axes[i].set_title(model)\n",
    "    sns.heatmap(models_confusion_matrices[model], ax=axes[i],  annot=True, fmt=\"d\")"
   ]
  },
  {
   "cell_type": "code",
   "execution_count": 53,
   "metadata": {},
   "outputs": [],
   "source": [
    "# tn, fp, fn, tp = models_confusion_matrices['RandomForestClassifier'].ravel()\n",
    "# print(tn, fp, fn, tp)"
   ]
  },
  {
   "cell_type": "markdown",
   "metadata": {},
   "source": [
    "False negatives:\n",
    "- LogisticRegression: 1\n",
    "- GaussianNB: 1\n",
    "- RandomForestClassifier: 0\n",
    "- SVC: 6\n",
    "\n",
    "The 'RandomForestClassifier' classified all the data points correctly and it has no false negatives.\n",
    "\n",
    "**According to the above information, the 'RandomForestClassifier' is chosen as the best model.**"
   ]
  },
  {
   "cell_type": "markdown",
   "metadata": {},
   "source": [
    "## 7. Validation <a name=\"validation\"></a>"
   ]
  },
  {
   "cell_type": "markdown",
   "metadata": {},
   "source": [
    "As the chosen model scores 100% in the metrics, the hyper-parameter tuning will be a kind of exploration for the best parameters."
   ]
  },
  {
   "cell_type": "code",
   "execution_count": 54,
   "metadata": {},
   "outputs": [],
   "source": [
    "from sklearn.model_selection import GridSearchCV\n",
    "\n",
    "parameters = {\n",
    "    'n_estimators': [5, 10, 20, 100],\n",
    "    'criterion': ['gini', 'entropy'],\n",
    "    'max_depth': [None, 50, 100],\n",
    "    'min_samples_split': [2,5,10],\n",
    "    'min_samples_leaf': [1, 5, 10],\n",
    "    'max_features': ['auto' , None]\n",
    "}\n",
    "\n",
    "grid_obj = GridSearchCV(RF_model, param_grid=parameters, scoring='accuracy')\n",
    "grid_fit = grid_obj.fit(X_train, y_train)\n",
    "best_clf = grid_fit.best_estimator_\n"
   ]
  },
  {
   "cell_type": "code",
   "execution_count": 59,
   "metadata": {},
   "outputs": [],
   "source": [
    "# using the optimized model for prediction\n",
    "best_predictions = best_clf.predict(X_test)"
   ]
  },
  {
   "cell_type": "code",
   "execution_count": 60,
   "metadata": {},
   "outputs": [
    {
     "name": "stdout",
     "output_type": "stream",
     "text": [
      "Random Forest Classifier Results:\n",
      "\n",
      "Unoptimized Model Testing Accuracy: 1.0000\n",
      "\n",
      "Optimized Model Testing Accuracy: 1.0000\n"
     ]
    }
   ],
   "source": [
    "# default and optimized models accuracies\n",
    "print(\"Random Forest Classifier Results:\\n\")\n",
    "print(\"Unoptimized Model Testing Accuracy: {:.4f}\\n\".format(results['RandomForestClassifier']['acc_test']))\n",
    "print(\"Optimized Model Testing Accuracy: {:.4f}\".format(accuracy_score(y_test, best_predictions)))"
   ]
  },
  {
   "cell_type": "code",
   "execution_count": 61,
   "metadata": {},
   "outputs": [
    {
     "name": "stdout",
     "output_type": "stream",
     "text": [
      "Best 'RandomForestClassifier' parameters values after tuning:\n"
     ]
    },
    {
     "data": {
      "text/html": [
       "<div>\n",
       "<style scoped>\n",
       "    .dataframe tbody tr th:only-of-type {\n",
       "        vertical-align: middle;\n",
       "    }\n",
       "\n",
       "    .dataframe tbody tr th {\n",
       "        vertical-align: top;\n",
       "    }\n",
       "\n",
       "    .dataframe thead th {\n",
       "        text-align: right;\n",
       "    }\n",
       "</style>\n",
       "<table border=\"1\" class=\"dataframe\">\n",
       "  <thead>\n",
       "    <tr style=\"text-align: right;\">\n",
       "      <th></th>\n",
       "      <th>criterion</th>\n",
       "      <th>max_depth</th>\n",
       "      <th>max_features</th>\n",
       "      <th>min_samples_leaf</th>\n",
       "      <th>min_samples_split</th>\n",
       "      <th>n_estimators</th>\n",
       "    </tr>\n",
       "  </thead>\n",
       "  <tbody>\n",
       "    <tr>\n",
       "      <th>best parameters values</th>\n",
       "      <td>gini</td>\n",
       "      <td>None</td>\n",
       "      <td>auto</td>\n",
       "      <td>1</td>\n",
       "      <td>2</td>\n",
       "      <td>5</td>\n",
       "    </tr>\n",
       "  </tbody>\n",
       "</table>\n",
       "</div>"
      ],
      "text/plain": [
       "                       criterion max_depth max_features  min_samples_leaf  \\\n",
       "best parameters values      gini      None         auto                 1   \n",
       "\n",
       "                        min_samples_split  n_estimators  \n",
       "best parameters values                  2             5  "
      ]
     },
     "metadata": {},
     "output_type": "display_data"
    }
   ],
   "source": [
    "print(\"Best 'RandomForestClassifier' parameters values after tuning:\")\n",
    "display(pd.DataFrame(grid_obj.best_params_, index=['best parameters values']))"
   ]
  },
  {
   "cell_type": "markdown",
   "metadata": {},
   "source": [
    "The optimized model has the same accuracy as the default one (of course it can not beat it in our case :) ). Also, the optimized model has the same parameters after tuning except for 'n_estimators' which changed from 10 to 5. However, we can use the optimized model to find important features in our problem."
   ]
  },
  {
   "cell_type": "code",
   "execution_count": 62,
   "metadata": {},
   "outputs": [
    {
     "data": {
      "image/png": "[encoded data removed]",
      "text/plain": [
       "<Figure size 720x864 with 1 Axes>"
      ]
     },
     "metadata": {},
     "output_type": "display_data"
    }
   ],
   "source": [
    "# plotting the most 10 important features in making the decision\n",
    "plt.figure(figsize=(10,12))\n",
    "plt.title(\"Feature Importance\")\n",
    "imp = pd.Series(data=best_clf.feature_importances_, index=X_train.columns).sort_values(ascending=False)[:10]\n",
    "ax = sns.barplot(y=imp.index, x=imp.values, palette=\"inferno\", orient='h')"
   ]
  },
  {
   "cell_type": "markdown",
   "metadata": {},
   "source": [
    "Some values from 'odor', 'spore-print-color', 'stalk-surface-above-ring', 'gill-size', 'stalk-surface-below-ring' 'population', 'ring-type', 'ring-number' where considered the most important factors in our classification. This is related to our observations about 'odor' and 'spore-print-color' found during examining the relationship between each column and the target variable in the 'Data Analysis' seciton. This is also a good indicator that our model is reliable."
   ]
  },
  {
   "cell_type": "markdown",
   "metadata": {},
   "source": [
    "## Conclusion"
   ]
  },
  {
   "cell_type": "markdown",
   "metadata": {},
   "source": [
    "Our problem was about classifying mushrooms as poisonous or edible. The dataset used for this problem was obtained from 'UCI  Machine Leanring Repository'. It is a textual data with 23 columns and 8124 rows. All the columns contained categorical values, the 'class' column was our target variable. First: we started with data exploration to find the distribution of each column, and then we plotted every column against the target variable to see if we can predict the behavior of the model. Second: we preprocessed the data by using one-hot-encoding technique and removing unncessary columns. Third: We created the benchmark model (LogisticRegression), and built 3 other models (RandomForest, GaussianNaiveBayes, SVC) to make a comparison between all of them. LogisticRegression scored very well in terms of accuracy, but RandomForest was the best model becuase it didn't make any mistake during classification (100% training and testing accuracies and 0 false negatives). Finally, we implemented the hyper-paramet tuning technique to find the best parameters for our model, and to find the important features in our data. "
   ]
  }
 ],
 "metadata": {
  "kernelspec": {
   "display_name": "Python 3",
   "language": "python",
   "name": "python3"
  },
  "language_info": {
   "codemirror_mode": {
    "name": "ipython",
    "version": 3
   },
   "file_extension": ".py",
   "mimetype": "text/x-python",
   "name": "python",
   "nbconvert_exporter": "python",
   "pygments_lexer": "ipython3",
   "version": "3.6.5"
  }
 },
 "nbformat": 4,
 "nbformat_minor": 2
}
